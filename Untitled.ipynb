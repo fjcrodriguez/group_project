{
 "cells": [
  {
   "cell_type": "code",
   "execution_count": null,
   "metadata": {
    "collapsed": false,
    "slideshow": {
     "slide_type": "-"
    }
   },
   "outputs": [],
   "source": [
    "import citydata as cty\n",
    "#import trulia as trl\n",
    "import rent_com as rntcm\n",
    "import rentHomefinder  as rhf\n",
    "import saleHomefinder as shf\n",
    "import pandas as pd\n",
    "\n",
    "homefinder_rent = rhf.parseHN()\n",
    "homefinder_sale = shf.parseHN()\n",
    "rentcom_rent = rntcm.rentcomData()\n",
    "#trulia_sale = trl.getSalesData()\n",
    "\n",
    "median_incomes = cty.getMedianIncomes()"
   ]
  }
 ],
 "metadata": {
  "kernelspec": {
   "display_name": "Python 2",
   "language": "python",
   "name": "python2"
  },
  "language_info": {
   "codemirror_mode": {
    "name": "ipython",
    "version": 2
   },
   "file_extension": ".py",
   "mimetype": "text/x-python",
   "name": "python",
   "nbconvert_exporter": "python",
   "pygments_lexer": "ipython2",
   "version": "2.7.12"
  }
 },
 "nbformat": 4,
 "nbformat_minor": 0
}
